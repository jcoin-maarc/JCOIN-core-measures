{
 "cells": [
  {
   "cell_type": "code",
   "execution_count": 4,
   "metadata": {},
   "outputs": [],
   "source": [
    "import requests \n",
    "import frictionless\n",
    "import json"
   ]
  },
  {
   "cell_type": "code",
   "execution_count": 14,
   "metadata": {},
   "outputs": [],
   "source": [
    "GITREPO_DIR = \"https://api.github.com/repos/jcoin-maarc/JCOIN-Core-Measures/contents\"\n",
    "SCHEMA_DIR = f\"{GITREPO_DIR}/schemas/combined?ref=mbkranz/dev\"\n",
    "EXCELPATH = f\"{GITREPO_DIR}/xlsx/core_measures.xlsx?ref=mbkranz/dev\"\n"
   ]
  },
  {
   "cell_type": "code",
   "execution_count": 17,
   "metadata": {},
   "outputs": [
    {
     "data": {
      "text/plain": [
       "'https://api.github.com/repos/jcoin-maarc/JCOIN-Core-Measures/contents/schemas/combined?ref=mbkranz/dev'"
      ]
     },
     "execution_count": 17,
     "metadata": {},
     "output_type": "execute_result"
    }
   ],
   "source": [
    "SCHEMA_DIR"
   ]
  },
  {
   "cell_type": "code",
   "execution_count": 15,
   "metadata": {},
   "outputs": [],
   "source": [
    "schemas = requests.get(SCHEMA_DIR).json()"
   ]
  },
  {
   "cell_type": "code",
   "execution_count": 16,
   "metadata": {},
   "outputs": [
    {
     "data": {
      "text/plain": [
       "[{'name': 'table-schema-clients.json',\n",
       "  'path': 'schemas/combined/table-schema-clients.json',\n",
       "  'sha': 'c5b68839c5f3333fb464c52b81007a0e34fecadd',\n",
       "  'size': 166204,\n",
       "  'url': 'https://api.github.com/repos/jcoin-maarc/JCOIN-Core-Measures/contents/schemas/combined/table-schema-clients.json?ref=mbkranz/dev',\n",
       "  'html_url': 'https://github.com/jcoin-maarc/JCOIN-Core-Measures/blob/mbkranz/dev/schemas/combined/table-schema-clients.json',\n",
       "  'git_url': 'https://api.github.com/repos/jcoin-maarc/JCOIN-Core-Measures/git/blobs/c5b68839c5f3333fb464c52b81007a0e34fecadd',\n",
       "  'download_url': 'https://raw.githubusercontent.com/jcoin-maarc/JCOIN-Core-Measures/mbkranz/dev/schemas/combined/table-schema-clients.json',\n",
       "  'type': 'file',\n",
       "  '_links': {'self': 'https://api.github.com/repos/jcoin-maarc/JCOIN-Core-Measures/contents/schemas/combined/table-schema-clients.json?ref=mbkranz/dev',\n",
       "   'git': 'https://api.github.com/repos/jcoin-maarc/JCOIN-Core-Measures/git/blobs/c5b68839c5f3333fb464c52b81007a0e34fecadd',\n",
       "   'html': 'https://github.com/jcoin-maarc/JCOIN-Core-Measures/blob/mbkranz/dev/schemas/combined/table-schema-clients.json'}},\n",
       " {'name': 'table-schema-staff.json',\n",
       "  'path': 'schemas/combined/table-schema-staff.json',\n",
       "  'sha': '38230a834a171e1ebb58ccd61624d530536dea77',\n",
       "  'size': 47272,\n",
       "  'url': 'https://api.github.com/repos/jcoin-maarc/JCOIN-Core-Measures/contents/schemas/combined/table-schema-staff.json?ref=mbkranz/dev',\n",
       "  'html_url': 'https://github.com/jcoin-maarc/JCOIN-Core-Measures/blob/mbkranz/dev/schemas/combined/table-schema-staff.json',\n",
       "  'git_url': 'https://api.github.com/repos/jcoin-maarc/JCOIN-Core-Measures/git/blobs/38230a834a171e1ebb58ccd61624d530536dea77',\n",
       "  'download_url': 'https://raw.githubusercontent.com/jcoin-maarc/JCOIN-Core-Measures/mbkranz/dev/schemas/combined/table-schema-staff.json',\n",
       "  'type': 'file',\n",
       "  '_links': {'self': 'https://api.github.com/repos/jcoin-maarc/JCOIN-Core-Measures/contents/schemas/combined/table-schema-staff.json?ref=mbkranz/dev',\n",
       "   'git': 'https://api.github.com/repos/jcoin-maarc/JCOIN-Core-Measures/git/blobs/38230a834a171e1ebb58ccd61624d530536dea77',\n",
       "   'html': 'https://github.com/jcoin-maarc/JCOIN-Core-Measures/blob/mbkranz/dev/schemas/combined/table-schema-staff.json'}}]"
      ]
     },
     "execution_count": 16,
     "metadata": {},
     "output_type": "execute_result"
    }
   ],
   "source": [
    "schemas"
   ]
  },
  {
   "cell_type": "code",
   "execution_count": 10,
   "metadata": {},
   "outputs": [
    {
     "data": {
      "text/plain": [
       "{'message': 'Not Found',\n",
       " 'documentation_url': 'https://docs.github.com/rest/repos/contents#get-repository-content'}"
      ]
     },
     "execution_count": 10,
     "metadata": {},
     "output_type": "execute_result"
    }
   ],
   "source": [
    "schemas"
   ]
  },
  {
   "cell_type": "code",
   "execution_count": 2,
   "metadata": {},
   "outputs": [
    {
     "ename": "NameError",
     "evalue": "name 'requests' is not defined",
     "output_type": "error",
     "traceback": [
      "\u001b[1;31m---------------------------------------------------------------------------\u001b[0m",
      "\u001b[1;31mNameError\u001b[0m                                 Traceback (most recent call last)",
      "Cell \u001b[1;32mIn[2], line 5\u001b[0m\n\u001b[0;32m      1\u001b[0m \u001b[38;5;66;03m## Read in schemas\u001b[39;00m\n\u001b[0;32m      2\u001b[0m \n\u001b[0;32m      3\u001b[0m \u001b[38;5;66;03m# Via github api\u001b[39;00m\n\u001b[0;32m      4\u001b[0m read_schema_dir \u001b[38;5;241m=\u001b[39m \u001b[38;5;28;01mlambda\u001b[39;00m schema_dir_url: requests\u001b[38;5;241m.\u001b[39mget(SCHEMA_DIR)\u001b[38;5;241m.\u001b[39mjson()\n\u001b[1;32m----> 5\u001b[0m schemas \u001b[38;5;241m=\u001b[39m [json\u001b[38;5;241m.\u001b[39mloads(requests\u001b[38;5;241m.\u001b[39mget(schema[\u001b[38;5;124m\"\u001b[39m\u001b[38;5;124mdownload_url\u001b[39m\u001b[38;5;124m\"\u001b[39m])\u001b[38;5;241m.\u001b[39mcontent) \u001b[38;5;28;01mfor\u001b[39;00m schema \u001b[38;5;129;01min\u001b[39;00m \u001b[43mread_schema_dir\u001b[49m\u001b[43m(\u001b[49m\u001b[43mSCHEMA_DIR\u001b[49m\u001b[43m)\u001b[49m]\n",
      "Cell \u001b[1;32mIn[2], line 4\u001b[0m, in \u001b[0;36m<lambda>\u001b[1;34m(schema_dir_url)\u001b[0m\n\u001b[0;32m      1\u001b[0m \u001b[38;5;66;03m## Read in schemas\u001b[39;00m\n\u001b[0;32m      2\u001b[0m \n\u001b[0;32m      3\u001b[0m \u001b[38;5;66;03m# Via github api\u001b[39;00m\n\u001b[1;32m----> 4\u001b[0m read_schema_dir \u001b[38;5;241m=\u001b[39m \u001b[38;5;28;01mlambda\u001b[39;00m schema_dir_url: \u001b[43mrequests\u001b[49m\u001b[38;5;241m.\u001b[39mget(SCHEMA_DIR)\u001b[38;5;241m.\u001b[39mjson()\n\u001b[0;32m      5\u001b[0m schemas \u001b[38;5;241m=\u001b[39m [json\u001b[38;5;241m.\u001b[39mloads(requests\u001b[38;5;241m.\u001b[39mget(schema[\u001b[38;5;124m\"\u001b[39m\u001b[38;5;124mdownload_url\u001b[39m\u001b[38;5;124m\"\u001b[39m])\u001b[38;5;241m.\u001b[39mcontent) \u001b[38;5;28;01mfor\u001b[39;00m schema \u001b[38;5;129;01min\u001b[39;00m read_schema_dir(SCHEMA_DIR)]\n",
      "\u001b[1;31mNameError\u001b[0m: name 'requests' is not defined"
     ]
    }
   ],
   "source": [
    "# Via github api\n",
    "read_schema_dir = lambda schema_dir_url: requests.get(SCHEMA_DIR).json()\n",
    "schemas = [json.loads(requests.get(schema[\"download_url\"]).content) for schema in read_schema_dir(SCHEMA_DIR)]"
   ]
  }
 ],
 "metadata": {
  "kernelspec": {
   "display_name": "JCOIN_Core_Measures",
   "language": "python",
   "name": "python3"
  },
  "language_info": {
   "codemirror_mode": {
    "name": "ipython",
    "version": 3
   },
   "file_extension": ".py",
   "mimetype": "text/x-python",
   "name": "python",
   "nbconvert_exporter": "python",
   "pygments_lexer": "ipython3",
   "version": "3.11.8"
  }
 },
 "nbformat": 4,
 "nbformat_minor": 2
}
